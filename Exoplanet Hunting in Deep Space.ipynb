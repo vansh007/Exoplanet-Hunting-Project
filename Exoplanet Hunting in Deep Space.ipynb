{
 "cells": [
  {
   "cell_type": "markdown",
   "metadata": {},
   "source": [
    "## Exoplanet Hunting in Deep Space\n",
    "The data describe the change in flux (light intensity) of several thousand stars. Each star has a binary label of 2 or 1. 2 indicated that that the star is confirmed to have at least one exoplanet in orbit; some observations are in fact multi-planet systems.\n",
    "\n",
    "As you can imagine, planets themselves do not emit light, but the stars that they orbit do. If said star is watched over several months or years, there may be a regular 'dimming' of the flux (the light intensity). This is evidence that there may be an orbiting body around the star; such a star could be considered to be a 'candidate' system. Further study of our candidate system, for example by a satellite that captures light at a different wavelength, could solidify the belief that the candidate can in fact be 'confirmed'.\n",
    "\n",
    "DATASET = https://www.kaggle.com/keplersmachines/kepler-labelled-time-series-data"
   ]
  },
  {
   "cell_type": "markdown",
   "metadata": {},
   "source": [
    "## Description\n",
    "- LABEL -> 2 is an exoplanet star and 1 is a non-exoplanet-star.\n",
    "- FLUX1-FLUX3197 -> the light intensity recorded for each star, at a different point in time.\n",
    "\n",
    "**Trainset:**\n",
    "\n",
    "- 5087 rows or observations.\n",
    "- 3198 columns or features.\n",
    "- Column 1 is the label vector. Columns 2 - 3198 are the flux values over time.\n",
    "- 37 confirmed exoplanet-stars and 5050 non-exoplanet-stars.\n",
    "\n",
    "**Testset:**\n",
    "\n",
    "- 570 rows or observations.\n",
    "- 3198 columns or features.\n",
    "- Column 1 is the label vector. Columns 2 - 3198 are the flux values over time.\n",
    "- 5 confirmed exoplanet-stars and 565 non-exoplanet-stars."
   ]
  },
  {
   "cell_type": "markdown",
   "metadata": {},
   "source": [
    "## Algorithm (3-layered NN):\n",
    "**Steps:**\n",
    "- Get the train and test data.\n",
    "- Normalize the data.\n",
    "- Define the neural network structure i.e. get the no. of nodes of each layer.\n",
    "- Randomly initialize the weights and parameters of all the layers (0.01).\n",
    "- Forward propagation.\n",
    "- Compute cost function.\n",
    "- Backward propagation.\n",
    "- Update the weights and baises (Gradient descent).\n",
    "- Model() for combining forward_prop,compute_grap,backward_prop,update_weh.\n",
    "- Predict the values for train and test set using updated weights.\n",
    "- Calculate the accuracy on Train and test set."
   ]
  },
  {
   "cell_type": "markdown",
   "metadata": {},
   "source": [
    "### Libraries required"
   ]
  },
  {
   "cell_type": "code",
   "execution_count": 110,
   "metadata": {},
   "outputs": [],
   "source": [
    "import numpy as np\n",
    "import pandas as pd\n",
    "import matplotlib.pyplot as plt"
   ]
  },
  {
   "cell_type": "markdown",
   "metadata": {},
   "source": [
    "### Importing exoTrain.csv & exoTest.csv file (train dataset):"
   ]
  },
  {
   "cell_type": "code",
   "execution_count": 111,
   "metadata": {
    "scrolled": false
   },
   "outputs": [],
   "source": [
    "#training set\n",
    "data_train = pd.read_csv('./exoTrain.csv')"
   ]
  },
  {
   "cell_type": "code",
   "execution_count": 112,
   "metadata": {},
   "outputs": [],
   "source": [
    "#test set\n",
    "data_test = pd.read_csv('./exoTest.csv')"
   ]
  },
  {
   "cell_type": "code",
   "execution_count": 113,
   "metadata": {},
   "outputs": [],
   "source": [
    "Y_train = np.reshape(np.array(data_train['LABEL']),(1,data_train.shape[0]))\n",
    "X_train = np.transpose(np.array(data_train[data_train.columns[1:]]))"
   ]
  },
  {
   "cell_type": "code",
   "execution_count": 114,
   "metadata": {},
   "outputs": [],
   "source": [
    "Y_test = np.reshape(np.array(data_test['LABEL']),(1,data_test.shape[0]))\n",
    "X_test = np.transpose(np.array(data_test[data_test.columns[1:]]))"
   ]
  },
  {
   "cell_type": "code",
   "execution_count": 115,
   "metadata": {},
   "outputs": [
    {
     "name": "stdout",
     "output_type": "stream",
     "text": [
      "Shapes:\n",
      "Y_train =  (1, 5087)\n",
      "X_train =  (3197, 5087)\n",
      "Y_test =  (1, 570)\n",
      "X_test =  (3197, 570)\n"
     ]
    }
   ],
   "source": [
    "#shapes of all X and Y for train and test set:\n",
    "print(\"Shapes:\")\n",
    "print(\"Y_train = \",Y_train.shape)\n",
    "print(\"X_train = \",X_train.shape)\n",
    "print(\"Y_test = \",Y_test.shape)\n",
    "print(\"X_test = \",X_test.shape)"
   ]
  },
  {
   "cell_type": "markdown",
   "metadata": {},
   "source": [
    "### Normalizing Data:"
   ]
  },
  {
   "cell_type": "code",
   "execution_count": 116,
   "metadata": {
    "scrolled": false
   },
   "outputs": [],
   "source": [
    "# Normalization of both train and test set X:\n",
    "#training set:\n",
    "mean_train = np.reshape(np.mean(X_train,axis=0),(1,X_train.shape[1]))\n",
    "std_train = np.reshape(np.std(X_train,axis=0),(1,X_train.shape[1]))\n",
    "X_train = (X_train - mean_train)/std_train\n",
    "#test set:\n",
    "mean_test = np.reshape(np.mean(X_test,axis=0),(1,X_test.shape[1]))\n",
    "std_test = np.reshape(np.std(X_test,axis=0),(1,X_test.shape[1]))\n",
    "X_test = (X_test - mean_test)/std_test\n"
   ]
  },
  {
   "cell_type": "markdown",
   "metadata": {},
   "source": [
    "### Sigmoid function:\n",
    "This function is used in output layer which acts as an activation function."
   ]
  },
  {
   "cell_type": "code",
   "execution_count": 117,
   "metadata": {},
   "outputs": [],
   "source": [
    "def sigmoid(z):\n",
    "    return 1 / (1 + np.exp(-z))"
   ]
  },
  {
   "cell_type": "markdown",
   "metadata": {},
   "source": [
    "### Defining Neural network structure:\n",
    "This would consist of 3 layers (excluding input layer) i.e 2-hidden layer and 1-output layer. Each ***hidden layer***=**12 nodes** and ***output layer*** = **1 node**. Hidden layers will use **tanh()** as activation function and output layer will use **sigmoid()**"
   ]
  },
  {
   "cell_type": "code",
   "execution_count": 118,
   "metadata": {},
   "outputs": [],
   "source": [
    "def defining_structure(X):\n",
    "    n_i = X.shape[0]\n",
    "    n_h1 = 12\n",
    "    n_h2 = 12\n",
    "    n_o = 1\n",
    "    \n",
    "    nodes ={\n",
    "        \"n_i\":n_i,\n",
    "        \"n_h1\":n_h1,\n",
    "        \"n_h2\":n_h2,\n",
    "        \"n_o\":n_o\n",
    "    }\n",
    "    \n",
    "    return nodes"
   ]
  },
  {
   "cell_type": "code",
   "execution_count": 119,
   "metadata": {},
   "outputs": [
    {
     "name": "stdout",
     "output_type": "stream",
     "text": [
      "12 12\n"
     ]
    }
   ],
   "source": [
    "nodes = defining_structure(X_train)\n",
    "print(nodes[\"n_h1\"],nodes[\"n_h2\"])"
   ]
  },
  {
   "cell_type": "markdown",
   "metadata": {},
   "source": [
    "### Random initialization of each layer"
   ]
  },
  {
   "cell_type": "code",
   "execution_count": 120,
   "metadata": {},
   "outputs": [],
   "source": [
    "def random_initialization(X):\n",
    "    np.random.seed(2)\n",
    "    \n",
    "    nodes = defining_structure(X)\n",
    "    \n",
    "    W1 = np.random.randn(nodes[\"n_h1\"],nodes[\"n_i\"])\n",
    "    b1 = np.zeros((nodes[\"n_h1\"],1))\n",
    "    W2 = np.random.randn(nodes[\"n_h2\"],nodes[\"n_h1\"])\n",
    "    b2 = np.zeros((nodes[\"n_h2\"],1))\n",
    "    W3 = np.random.randn(nodes[\"n_o\"],nodes[\"n_h2\"])\n",
    "    b3 = np.zeros((nodes[\"n_o\"],1))\n",
    "    \n",
    "#     print(W1.shape)\n",
    "#     print(b1.shape)\n",
    "#     print(W2.shape)\n",
    "#     print(b2.shape)\n",
    "#     print(W3.shape)\n",
    "#     print(b3.shape)\n",
    "\n",
    "    params = {\n",
    "        \"W1\":W1,\n",
    "        \"b1\":b1,\n",
    "        \"W2\":W2,\n",
    "        \"b2\":b2,\n",
    "        \"W3\":W3,\n",
    "        \"b3\":b3\n",
    "    }\n",
    "    \n",
    "    return params"
   ]
  },
  {
   "cell_type": "code",
   "execution_count": 121,
   "metadata": {
    "scrolled": true
   },
   "outputs": [
    {
     "data": {
      "text/plain": [
       "{'W1': array([[-0.41675785, -0.05626683, -2.1361961 , ...,  1.61430797,\n",
       "          0.99890746, -0.88203649],\n",
       "        [-0.57428347, -1.55477478,  1.14098302, ..., -0.1082349 ,\n",
       "          1.01994095,  0.1331631 ],\n",
       "        [ 1.90829452, -1.35836971,  0.06887664, ...,  2.43568076,\n",
       "         -0.50906617, -2.59542559],\n",
       "        ..., \n",
       "        [-1.26556713,  0.56972065,  0.81175451, ..., -1.26632935,\n",
       "         -1.21179189, -1.38104343],\n",
       "        [ 0.50079915,  1.67793197,  0.38873169, ...,  0.7008209 ,\n",
       "          0.13992836,  0.80095466],\n",
       "        [-0.94882391,  0.48822788, -1.02400764, ...,  1.99515716,\n",
       "         -0.14299326, -0.75133526]]),\n",
       " 'W2': array([[  1.53553181e+00,   4.56998839e-01,   3.77484828e-01,\n",
       "          -9.45032861e-01,   6.48676419e-01,   5.98076928e-01,\n",
       "          -2.11310427e+00,   1.27573134e+00,   2.28080883e-01,\n",
       "           7.44821980e-01,   2.69226218e-01,  -6.86534569e-01],\n",
       "        [  1.42564291e-01,   5.41961813e-01,   5.29203235e-01,\n",
       "           1.32735074e+00,  -2.23521689e+00,   2.08896792e-01,\n",
       "          -5.87810885e-01,  -1.21620709e+00,  -5.09689926e-02,\n",
       "           4.56142019e-03,  -7.13100095e-01,   5.75219634e-01],\n",
       "        [  3.53681748e-01,   9.02051303e-01,  -5.89560861e-01,\n",
       "          -1.02030382e+00,   9.85542980e-01,   4.48230359e-01,\n",
       "           6.61860466e-01,   2.63197829e-01,  -4.24548509e-01,\n",
       "          -9.06104460e-01,   2.67345893e+00,  -8.33358515e-01],\n",
       "        [ -5.64126812e-01,  -1.12770947e+00,   7.44292130e-01,\n",
       "          -8.73319735e-01,  -8.62479363e-01,  -1.34051768e+00,\n",
       "           3.07026670e-02,  -2.38700350e-01,   9.46855380e-01,\n",
       "          -3.88288560e-01,  -1.09110909e-01,  -5.02700996e-02],\n",
       "        [  9.32927444e-02,   8.97937326e-01,  -1.21971156e+00,\n",
       "           1.12301393e+00,   2.77009280e-01,   3.90302112e-01,\n",
       "           1.26267826e+00,  -3.21441086e-01,  -3.24265139e-01,\n",
       "          -1.83426876e-01,   6.35755836e-01,   3.20477782e-01],\n",
       "        [ -2.28087716e-01,  -6.81168711e-01,  -1.25742263e+00,\n",
       "           8.73409359e-01,  -1.24187488e+00,  -7.94415866e-01,\n",
       "          -1.76439633e+00,   6.62848508e-01,   1.08873177e+00,\n",
       "          -1.06878543e+00,   1.04813960e+00,  -6.65162292e-01],\n",
       "        [  1.73084690e+00,  -2.77159183e-01,   6.81968599e-02,\n",
       "           1.92364423e+00,  -9.69828096e-01,  -5.55732146e-01,\n",
       "           7.91447247e-01,   1.31047993e+00,   1.57396684e+00,\n",
       "           1.73822309e+00,   1.54272581e-01,   4.55903918e-01],\n",
       "        [ -3.06088920e-01,   7.63498780e-01,   1.24576320e-01,\n",
       "          -3.09879073e-01,   6.05463629e-01,   3.57097214e-01,\n",
       "          -3.16993313e-01,   5.46657280e-01,  -1.82351722e-03,\n",
       "           1.40124259e-01,   2.57333680e-01,   8.70560950e-01],\n",
       "        [  1.60922408e+00,  -1.40886484e+00,  -2.05483408e+00,\n",
       "           6.80632960e-01,   4.54198696e-01,   2.56017915e+00,\n",
       "           1.20355789e-01,   2.94900577e-01,  -1.18270723e+00,\n",
       "          -2.54926827e-01,  -5.81054996e-01,  -5.52176671e-01],\n",
       "        [ -1.03659095e+00,  -2.35161982e+00,  -1.02160390e+00,\n",
       "          -2.15720406e+00,  -1.61725952e+00,  -3.32020026e-01,\n",
       "          -9.17676201e-01,  -3.59661970e-01,  -8.56059120e-01,\n",
       "           1.66724735e-01,  -1.00362772e+00,  -5.44826227e-01],\n",
       "        [  1.90326290e+00,  -2.74051558e-01,  -2.01626474e-01,\n",
       "           1.40285307e+00,   5.58626534e-01,  -4.25052780e-01,\n",
       "          -7.83314813e-01,   5.17262723e-01,  -9.42350336e-01,\n",
       "           1.26384492e+00,  -2.23419114e-01,  -4.50628375e-01],\n",
       "        [  2.98279771e-01,   1.64904558e+00,   9.68213426e-01,\n",
       "           1.59915577e-01,  -7.89982052e-01,  -4.81902818e-01,\n",
       "           2.85911727e-01,   1.59839039e+00,  -1.17678504e+00,\n",
       "          -1.14797873e+00,   1.59570406e+00,   5.48444892e-02]]),\n",
       " 'W3': array([[ 0.24584688,  0.75054483, -0.75820974,  0.5563975 ,  1.25199572,\n",
       "         -1.41114006,  0.41039051,  0.22671392,  0.20733646,  0.61224875,\n",
       "          1.69926642, -1.75305182]]),\n",
       " 'b1': array([[ 0.],\n",
       "        [ 0.],\n",
       "        [ 0.],\n",
       "        [ 0.],\n",
       "        [ 0.],\n",
       "        [ 0.],\n",
       "        [ 0.],\n",
       "        [ 0.],\n",
       "        [ 0.],\n",
       "        [ 0.],\n",
       "        [ 0.],\n",
       "        [ 0.]]),\n",
       " 'b2': array([[ 0.],\n",
       "        [ 0.],\n",
       "        [ 0.],\n",
       "        [ 0.],\n",
       "        [ 0.],\n",
       "        [ 0.],\n",
       "        [ 0.],\n",
       "        [ 0.],\n",
       "        [ 0.],\n",
       "        [ 0.],\n",
       "        [ 0.],\n",
       "        [ 0.]]),\n",
       " 'b3': array([[ 0.]])}"
      ]
     },
     "execution_count": 121,
     "metadata": {},
     "output_type": "execute_result"
    }
   ],
   "source": [
    "random_initialization(X_train)"
   ]
  },
  {
   "cell_type": "markdown",
   "metadata": {},
   "source": [
    "### Forward propagation:"
   ]
  },
  {
   "cell_type": "code",
   "execution_count": 122,
   "metadata": {},
   "outputs": [],
   "source": [
    "#forward propagation:\n",
    "def forward_prop(X,Y,parameters):\n",
    "    \n",
    "    W1 = parameters[\"W1\"]\n",
    "    b1 = parameters[\"b1\"]\n",
    "    W2 = parameters[\"W2\"]\n",
    "    b2 = parameters[\"b2\"]\n",
    "    W3 = parameters[\"W3\"]\n",
    "    b3 = parameters[\"b3\"]\n",
    "    \n",
    "    Z1 = np.dot(W1,X) + b1\n",
    "    A1 = np.tanh(Z1)\n",
    "    Z2 = np.dot(W2,A1) + b2\n",
    "    A2 = np.tanh(Z2)\n",
    "    Z3 = np.dot(W3,A2) + b3\n",
    "    A3 = sigmoid(Z3)\n",
    "    \n",
    "    cache = {\n",
    "        \"Z1\":Z1,\n",
    "        \"A1\":A1,\n",
    "        \"Z2\":Z2,\n",
    "        \"A2\":A2,\n",
    "        \"Z3\":Z3,\n",
    "        \"A3\":A3\n",
    "    }\n",
    "    \n",
    "    return A3,cache\n",
    "    "
   ]
  },
  {
   "cell_type": "code",
   "execution_count": 123,
   "metadata": {
    "scrolled": true
   },
   "outputs": [
    {
     "data": {
      "text/plain": [
       "(array([[ 0.98817604,  0.32539714,  0.40403171, ...,  0.609769  ,\n",
       "          0.00609144,  0.15273877]]),\n",
       " {'A1': array([[ 1.        , -1.        ,  1.        , ..., -1.        ,\n",
       "          -1.        ,  1.        ],\n",
       "         [-1.        ,  0.99989749,  1.        , ...,  1.        ,\n",
       "           1.        ,  1.        ],\n",
       "         [-1.        ,  1.        ,  1.        , ...,  1.        ,\n",
       "          -1.        ,  0.99998934],\n",
       "         ..., \n",
       "         [ 1.        , -0.99999959,  1.        , ...,  1.        ,\n",
       "          -1.        , -1.        ],\n",
       "         [-1.        , -1.        ,  0.99999816, ...,  1.        ,\n",
       "           1.        ,  1.        ],\n",
       "         [-1.        , -1.        , -1.        , ...,  1.        ,\n",
       "          -1.        ,  0.99997032]]),\n",
       "  'A2': array([[-0.76785051, -0.8652193 ,  0.85358783, ..., -0.9997154 ,\n",
       "          -0.99999813,  0.08171078],\n",
       "         [ 0.27489117,  0.94681416,  0.89144828, ...,  0.25049978,\n",
       "           0.98527126,  0.99999137],\n",
       "         [-0.99777628, -0.96099613,  0.86509605, ...,  0.36611348,\n",
       "           0.99938309, -0.37203524],\n",
       "         ..., \n",
       "         [ 0.99962271, -0.97861329, -0.99999847, ..., -0.99999993,\n",
       "          -0.51627696, -0.99998536],\n",
       "         [ 0.9999776 ,  0.55543956,  0.99484726, ..., -0.92824292,\n",
       "          -0.97882775,  0.08277844],\n",
       "         [-0.59717893,  0.74452577,  0.99996289, ...,  0.1820689 ,\n",
       "           0.99966582,  0.99943341]]),\n",
       "  'A3': array([[ 0.98817604,  0.32539714,  0.40403171, ...,  0.609769  ,\n",
       "           0.00609144,  0.15273877]]),\n",
       "  'Z1': array([[  67.57186553, -112.9738667 ,   41.45590314, ...,  -87.86219978,\n",
       "          -126.29341284,   76.31553   ],\n",
       "         [ -86.97415987,    4.93934577,   84.7849951 , ...,   44.22588402,\n",
       "            53.29718618,   14.12195928],\n",
       "         [ -63.52270598,   77.86024357,   22.74467223, ...,   37.84149393,\n",
       "          -113.2632353 ,    6.07092962],\n",
       "         ..., \n",
       "         [ 102.02532758,   -7.70202567,   53.16666753, ...,   20.50521323,\n",
       "           -15.04892114,  -42.67908727],\n",
       "         [ -85.99716269,  -38.07057646,    6.94979404, ...,   34.23293759,\n",
       "           119.68960313,   65.18999999],\n",
       "         [ -52.33135846,  -38.35337102,  -36.09430561, ...,   55.08154957,\n",
       "          -118.34865326,    5.55909643]]),\n",
       "  'Z2': array([[-1.01506908, -1.31374243,  1.26922636, ..., -4.42872262,\n",
       "          -6.9409381 ,  0.08189336],\n",
       "         [ 0.28214717,  1.80007872,  1.42893567, ...,  0.25594598,\n",
       "           2.45185508,  6.17686721],\n",
       "         [-3.40030507, -1.95877343,  1.31325241, ...,  0.38392758,\n",
       "           4.04181539, -0.39078322],\n",
       "         ..., \n",
       "         [ 4.28772499, -2.26369093, -7.04312874, ..., -8.57487888,\n",
       "          -0.57125036, -5.91242019],\n",
       "         [ 5.69981591,  0.62621372,  2.97939748, ..., -1.64553899,\n",
       "          -2.26878425,  0.0829683 ],\n",
       "         [-0.68875086,  0.96055825,  5.44736692, ...,  0.18412169,\n",
       "           4.34839837,  4.08437249]]),\n",
       "  'Z3': array([[ 4.42573314, -0.72907774, -0.38869408, ...,  0.44634133,\n",
       "          -5.09476103, -1.71327997]])})"
      ]
     },
     "execution_count": 123,
     "metadata": {},
     "output_type": "execute_result"
    }
   ],
   "source": [
    "forward_prop(X_train,Y_train,random_initialization(X_train))"
   ]
  },
  {
   "cell_type": "markdown",
   "metadata": {},
   "source": [
    "### Computing cost"
   ]
  },
  {
   "cell_type": "code",
   "execution_count": 124,
   "metadata": {},
   "outputs": [],
   "source": [
    "def compute_cost(A3,Y):\n",
    "    m = Y.shape[1]\n",
    "    cost = -(np.dot(Y,np.transpose(np.log(A3))) + np.dot((1-Y),np.transpose(np.log(1-A3))))/m\n",
    "    cost = np.squeeze(cost)\n",
    "    return cost"
   ]
  },
  {
   "cell_type": "markdown",
   "metadata": {},
   "source": [
    "### Backpropagation:"
   ]
  },
  {
   "cell_type": "code",
   "execution_count": 125,
   "metadata": {},
   "outputs": [],
   "source": [
    "#recalculate backprop derivaties.\n",
    "def backward_prop(X,Y,parameters,cache):\n",
    "    m = Y.shape[1]\n",
    "    \n",
    "    W1 = parameters[\"W1\"]\n",
    "    b1 = parameters[\"b1\"]\n",
    "    W2 = parameters[\"W2\"]\n",
    "    b2 = parameters[\"b2\"]\n",
    "    W3 = parameters[\"W3\"]\n",
    "    b3 = parameters[\"b3\"]\n",
    "    \n",
    "    Z1 = cache[\"Z1\"]\n",
    "    A1 = cache[\"A1\"]\n",
    "    Z2 = cache[\"Z2\"]\n",
    "    A2 = cache[\"A2\"]\n",
    "    Z3 = cache[\"Z3\"]\n",
    "    A3 = cache[\"A3\"]\n",
    "    \n",
    "    dA3 = (-Y/A3) + (1-Y)/(1-A3)\n",
    "    dZ3 = A3 - Y\n",
    "    dW3 = np.dot(dZ3,np.transpose(A2))/m\n",
    "    db3 = np.sum(dZ3,axis=1,keepdims=True)/m\n",
    "    \n",
    "    dA2 = np.dot(np.transpose(W3),dZ3)      #dA2 = (12,5087)\n",
    "    dZ2 = dA2*(1-np.power(np.tanh(Z2),2))\n",
    "    dW2 = np.dot(dZ2,np.transpose(A1))/m\n",
    "    db2 = np.sum(dZ2,keepdims=True)/m\n",
    "    \n",
    "    dA1 = np.dot(W2,Z2)\n",
    "    dZ1 = dA1*(1-np.power(np.tanh(Z1),2))\n",
    "#     dw1 = dz1.X\n",
    "#     (12,3197) = (12,5087).(3197,5087)\n",
    "#     dw1 = dz1.np.transpose(X)\n",
    "#     (12,3197) = (12,5087).(5087,3197)\n",
    "    dW1 = np.dot(dZ1,np.transpose(X))/m\n",
    "    db1 = np.sum(dZ1,keepdims=True)/m\n",
    "    \n",
    "    grads = {\n",
    "        \"dW3\":dW3,\n",
    "        \"dW2\":dW2,\n",
    "        \"dW1\":dW1,\n",
    "        \"db3\":db3,\n",
    "        \"db2\":db2,\n",
    "        \"db1\":db1\n",
    "    }\n",
    "    \n",
    "    return grads"
   ]
  },
  {
   "cell_type": "markdown",
   "metadata": {},
   "source": [
    "### Updating the weights and parameters:"
   ]
  },
  {
   "cell_type": "code",
   "execution_count": 126,
   "metadata": {},
   "outputs": [],
   "source": [
    "def update_weh(learning_rate,parameters,grads):\n",
    "    \n",
    "    W1 = parameters[\"W1\"]\n",
    "    b1 = parameters[\"b1\"]\n",
    "    W2 = parameters[\"W2\"]\n",
    "    b2 = parameters[\"b2\"]\n",
    "    W3 = parameters[\"W3\"]\n",
    "    b3 = parameters[\"b3\"]\n",
    "    \n",
    "    dW3 = grads[\"dW3\"]\n",
    "    dW2 = grads[\"dW2\"]\n",
    "    dW1 = grads[\"dW1\"]\n",
    "    db3 = grads[\"db3\"]\n",
    "    db2 = grads[\"db2\"]\n",
    "    db1 = grads[\"db1\"]\n",
    "    \n",
    "    W3 = W3 - learning_rate*dW3\n",
    "    W2 = W2 - learning_rate*dW2\n",
    "    W1 = W1 - learning_rate*dW1\n",
    "    b3 = b3 - learning_rate*db3\n",
    "    b2 = b2 - learning_rate*db2\n",
    "    b1 = b1 - learning_rate*db1\n",
    "    \n",
    "    params = {\n",
    "        \"W1\":W1,\n",
    "        \"b1\":b1,\n",
    "        \"W2\":W2,\n",
    "        \"b2\":b2,\n",
    "        \"W3\":W3,\n",
    "        \"b3\":b3\n",
    "    }\n",
    "    \n",
    "    return params"
   ]
  },
  {
   "cell_type": "markdown",
   "metadata": {},
   "source": [
    "### Model function"
   ]
  },
  {
   "cell_type": "code",
   "execution_count": 127,
   "metadata": {},
   "outputs": [],
   "source": [
    "def model(X,Y,learning_rate=0.03,num_iteration=2000):\n",
    "    \n",
    "    parameters = random_initialization(X)\n",
    "    all_cost = list()\n",
    "    \n",
    "    for i in range(num_iteration):\n",
    "        A3,cache = forward_prop(X,Y,parameters)\n",
    "        cost = compute_cost(A3,Y)\n",
    "        all_cost.append(cost)\n",
    "        print(\"Cost for iteration \",i,\" = \",cost,end='\\r')\n",
    "        \n",
    "        grads = backward_prop(X,Y,parameters,cache)\n",
    "        parameters = update_weh(learning_rate,parameters,grads)\n",
    "        \n",
    "    nn_model={\n",
    "        \"grads\":grads,\n",
    "        \"cache\":cache,\n",
    "        \"parameters\":parameters,\n",
    "        \"cost\":all_cost\n",
    "    }\n",
    "    return nn_model\n",
    "    "
   ]
  },
  {
   "cell_type": "code",
   "execution_count": 128,
   "metadata": {
    "scrolled": true
   },
   "outputs": [
    {
     "name": "stdout",
     "output_type": "stream",
     "text": [
      "Cost for iteration  1999  =  -0.0612959826874473256\r"
     ]
    }
   ],
   "source": [
    "nn_model_train = model(X_train,Y_train)"
   ]
  },
  {
   "cell_type": "code",
   "execution_count": 129,
   "metadata": {},
   "outputs": [
    {
     "name": "stdout",
     "output_type": "stream",
     "text": [
      "Cost for iteration  1999  =  -0.0614518568829608365 =  -0.040635992250096904\r"
     ]
    }
   ],
   "source": [
    "nn_model_test = model(X_test,Y_test)"
   ]
  },
  {
   "cell_type": "code",
   "execution_count": 130,
   "metadata": {
    "scrolled": true
   },
   "outputs": [],
   "source": [
    "train_prediction = np.squeeze(nn_model_train[\"cache\"][\"A3\"])\n",
    "test_prediction = np.squeeze(nn_model_test[\"cache\"][\"A3\"])"
   ]
  },
  {
   "cell_type": "code",
   "execution_count": 131,
   "metadata": {},
   "outputs": [
    {
     "name": "stdout",
     "output_type": "stream",
     "text": [
      "Training set accuracy =  99.1698625276\n",
      "Test set accuracy =  98.9712555196\n"
     ]
    }
   ],
   "source": [
    "print(\"Training set accuracy = \",(100 - np.mean(np.abs(train_prediction - Y_train))*100))\n",
    "print(\"Test set accuracy = \",(100 - np.mean(np.abs(test_prediction - Y_test))*100))"
   ]
  },
  {
   "cell_type": "code",
   "execution_count": 132,
   "metadata": {},
   "outputs": [
    {
     "data": {
      "image/png": "[encoded data removed]",
      "text/plain": [
       "<matplotlib.figure.Figure at 0x7f4ecc8cb0b8>"
      ]
     },
     "metadata": {},
     "output_type": "display_data"
    }
   ],
   "source": [
    "cost_train = np.squeeze(nn_model_train[\"cost\"])\n",
    "cost_test = np.squeeze(nn_model_test[\"cost\"])\n",
    "\n",
    "train, = plt.plot(cost_train,label='Training cost',color='red')\n",
    "test, = plt.plot(cost_test,label='Testing cost',color='blue')\n",
    "\n",
    "plt.legend(handles=[train,test])\n",
    "plt.xlabel('Number of iteration')\n",
    "plt.ylabel('Cost')\n",
    "plt.show()"
   ]
  }
 ],
 "metadata": {
  "kernelspec": {
   "display_name": "Python 3",
   "language": "python",
   "name": "python3"
  },
  "language_info": {
   "codemirror_mode": {
    "name": "ipython",
    "version": 3
   },
   "file_extension": ".py",
   "mimetype": "text/x-python",
   "name": "python",
   "nbconvert_exporter": "python",
   "pygments_lexer": "ipython3",
   "version": "3.5.2"
  }
 },
 "nbformat": 4,
 "nbformat_minor": 2
}
